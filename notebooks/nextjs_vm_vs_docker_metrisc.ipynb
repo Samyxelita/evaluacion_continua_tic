{
 "cells": [
  {
   "cell_type": "code",
   "execution_count": null,
   "id": "e5108ceb",
   "metadata": {
    "vscode": {
     "languageId": "plaintext"
    }
   },
   "outputs": [],
   "source": [
    "# 📊 Benchmark: Next.js en Docker vs VM\n",
    "\n",
    "Este notebook compara el rendimiento de una app Next.js ejecutada en Docker y en una Máquina Virtual (VM) usando pruebas de carga con `wrk` y monitoreo de recursos con `psutil`."
   ]
  },
  {
   "cell_type": "code",
   "execution_count": null,
   "id": "05f31dd1",
   "metadata": {
    "vscode": {
     "languageId": "plaintext"
    }
   },
   "outputs": [],
   "source": [
    "import pandas as pd\n",
    "import matplotlib.pyplot as plt\n",
    "import re"
   ]
  },
  {
   "cell_type": "code",
   "execution_count": null,
   "id": "4a029608",
   "metadata": {
    "vscode": {
     "languageId": "plaintext"
    }
   },
   "outputs": [],
   "source": [
    "# Cambia la ruta si tienes archivos separados para Docker y VM\n",
    "df = pd.read_csv(\"../results/resource_usage.csv\")\n",
    "\n",
    "plt.figure(figsize=(10, 4))\n",
    "plt.plot(df[\"timestamp\"], df[\"cpu_percent\"], label=\"CPU (%)\")\n",
    "plt.plot(df[\"timestamp\"], df[\"mem_percent\"], label=\"Memoria (%)\")\n",
    "plt.xlabel(\"Timestamp\")\n",
    "plt.ylabel(\"Uso (%)\")\n",
    "plt.title(\"Uso de CPU y Memoria durante el benchmark\")\n",
    "plt.legend()\n",
    "plt.show()"
   ]
  },
  {
   "cell_type": "code",
   "execution_count": null,
   "id": "a537b2e8",
   "metadata": {
    "vscode": {
     "languageId": "plaintext"
    }
   },
   "outputs": [],
   "source": []
  },
  {
   "cell_type": "code",
   "execution_count": null,
   "id": "88672566",
   "metadata": {
    "vscode": {
     "languageId": "plaintext"
    }
   },
   "outputs": [],
   "source": [
    "# Cambia la ruta si tienes archivos separados para Docker y VM\n",
    "with open(\"../results/wrk_result.txt\") as f:\n",
    "    wrk_output = f.read()\n",
    "\n",
    "print(wrk_output)"
   ]
  },
  {
   "cell_type": "code",
   "execution_count": null,
   "id": "5a6f1c50",
   "metadata": {
    "vscode": {
     "languageId": "plaintext"
    }
   },
   "outputs": [],
   "source": [
    "def parse_wrk_output(output):\n",
    "    metrics = {}\n",
    "    # Requests/sec\n",
    "    reqs = re.search(r\"Requests/sec:\\s+([\\d\\.]+)\", output)\n",
    "    if reqs:\n",
    "        metrics[\"Requests/sec\"] = float(reqs.group(1))\n",
    "    # Latency\n",
    "    latency = re.search(r\"Latency\\s+([\\d\\.]+)(ms|s|us)\", output)\n",
    "    if latency:\n",
    "        value, unit = float(latency.group(1)), latency.group(2)\n",
    "        # Convert latency to ms\n",
    "        if unit == \"s\":\n",
    "            value *= 1000\n",
    "        elif unit == \"us\":\n",
    "            value /= 1000\n",
    "        metrics[\"Latency (ms)\"] = value\n",
    "    # Transfer/sec\n",
    "    transfer = re.search(r\"Transfer/sec:\\s+([\\d\\.]+)(\\w+)\", output)\n",
    "    if transfer:\n",
    "        metrics[\"Transfer/sec\"] = transfer.group(1) + transfer.group(2)\n",
    "    return metrics\n",
    "\n",
    "wrk_metrics = parse_wrk_output(wrk_output)\n",
    "wrk_metrics"
   ]
  },
  {
   "cell_type": "code",
   "execution_count": null,
   "id": "da9ec3f0",
   "metadata": {
    "vscode": {
     "languageId": "plaintext"
    }
   },
   "outputs": [],
   "source": [
    "# Comparar métricas de wrk entre Docker y VM\n",
    "\n",
    "resultados = {}\n",
    "for env in [\"docker\", \"vm\"]:\n",
    "    with open(f\"../results/wrk_result_{env}.txt\") as f:\n",
    "        resultados[env] = parse_wrk_output(f.read())\n",
    "\n",
    "import pandas as pd\n",
    "pd.DataFrame(resultados)"
   ]
  }
 ],
 "metadata": {
  "language_info": {
   "name": "python"
  }
 },
 "nbformat": 4,
 "nbformat_minor": 5
}
