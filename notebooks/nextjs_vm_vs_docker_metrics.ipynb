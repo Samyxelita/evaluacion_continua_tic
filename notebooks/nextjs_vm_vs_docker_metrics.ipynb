# 📊 Jupyter notebook for comparing Next.js app on VM vs Docker
